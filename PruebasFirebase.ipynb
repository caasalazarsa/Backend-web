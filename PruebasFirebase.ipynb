{
  "nbformat": 4,
  "nbformat_minor": 0,
  "metadata": {
    "colab": {
      "provenance": [],
      "authorship_tag": "ABX9TyOtYYa3nybgObbCvd0Fizvw",
      "include_colab_link": true
    },
    "kernelspec": {
      "name": "python3",
      "display_name": "Python 3"
    },
    "language_info": {
      "name": "python"
    }
  },
  "cells": [
    {
      "cell_type": "markdown",
      "metadata": {
        "id": "view-in-github",
        "colab_type": "text"
      },
      "source": [
        "<a href=\"https://colab.research.google.com/github/caasalazarsa/Backend-web/blob/main/PruebasFirebase.ipynb\" target=\"_parent\"><img src=\"https://colab.research.google.com/assets/colab-badge.svg\" alt=\"Open In Colab\"/></a>"
      ]
    },
    {
      "cell_type": "markdown",
      "source": [
        "# Crear Usuario"
      ],
      "metadata": {
        "id": "Kr-WjXJ97fOq"
      }
    },
    {
      "cell_type": "code",
      "execution_count": 11,
      "metadata": {
        "colab": {
          "base_uri": "https://localhost:8080/"
        },
        "id": "jF1tzB-j0GDj",
        "outputId": "cc5a26af-db9b-4b84-85b3-e12285029a4f"
      },
      "outputs": [
        {
          "output_type": "stream",
          "name": "stdout",
          "text": [
            "{'error': {'code': 400, 'message': 'EMAIL_EXISTS', 'errors': [{'message': 'EMAIL_EXISTS', 'domain': 'global', 'reason': 'invalid'}]}}\n",
            "400\n",
            "EMAIL_EXISTS\n"
          ]
        }
      ],
      "source": [
        "import requests\n",
        "\n",
        "api_key=''\n",
        "with open('api-key.txt') as f:\n",
        "    api_key = f.readline()\n",
        "    f.close\n",
        "\n",
        "\n",
        "url=\"https://identitytoolkit.googleapis.com/v1/accounts:signUp?key={}\".format(api_key)\n",
        "\n",
        "\n",
        "headers={'Content-Type': 'application/json'}\n",
        "\n",
        "email=\"csalazarsa01@uninpahu.edu.co\"\n",
        "password=\"123456\"\n",
        "\n",
        "body = {\"email\":\"{}\".format(email),\"password\":\"{}\".format(password),\"returnSecureToken\":True}\n",
        "\n",
        "x = requests.post(url,headers=headers, json = body)\n",
        "\n",
        "print(x.json())\n",
        "print(x.status_code)\n",
        "if 'error' in x.json().keys():\n",
        "  print(x.json()['error']['message'])"
      ]
    },
    {
      "cell_type": "markdown",
      "source": [
        "# Login Usuario"
      ],
      "metadata": {
        "id": "0J7srkaW7j4Q"
      }
    },
    {
      "cell_type": "code",
      "source": [
        "import requests\n",
        "\n",
        "api_key=''\n",
        "with open('api-key.txt') as f:\n",
        "    api_key = f.readline()\n",
        "    f.close\n",
        "\n",
        "\n",
        "url=\"https://identitytoolkit.googleapis.com/v1/accounts:signInWithPassword?key={}\".format(api_key)\n",
        "\n",
        "\n",
        "headers={'Content-Type': 'application/json'}\n",
        "\n",
        "email=\"csalazarsa01@uninpahu.edu.co\"\n",
        "password=\"123456\"\n",
        "\n",
        "body = {\"email\":\"{}\".format(email),\"password\":\"{}\".format(password),\"returnSecureToken\":True}\n",
        "\n",
        "x = requests.post(url,headers=headers, json = body)\n",
        "\n",
        "print(x.json())\n",
        "print(x.status_code)\n",
        "if 'error' in x.json().keys():\n",
        "  print(x.json()['error']['message'])\n",
        "\n",
        "\n",
        "\n"
      ],
      "metadata": {
        "colab": {
          "base_uri": "https://localhost:8080/"
        },
        "id": "XXqy0m8D7nVY",
        "outputId": "1dec91fa-b41d-4b02-d100-8da478a52e2d"
      },
      "execution_count": 14,
      "outputs": [
        {
          "output_type": "stream",
          "name": "stdout",
          "text": [
            "{'error': {'code': 400, 'message': 'INVALID_LOGIN_CREDENTIALS', 'errors': [{'message': 'INVALID_LOGIN_CREDENTIALS', 'domain': 'global', 'reason': 'invalid'}]}}\n",
            "400\n",
            "INVALID_LOGIN_CREDENTIALS\n"
          ]
        }
      ]
    },
    {
      "cell_type": "markdown",
      "source": [
        "# Recuperar Contraseña"
      ],
      "metadata": {
        "id": "Hins0tSS80F1"
      }
    },
    {
      "cell_type": "code",
      "source": [
        "import requests\n",
        "\n",
        "api_key=''\n",
        "with open('api-key.txt') as f:\n",
        "    api_key = f.readline()\n",
        "    f.close\n",
        "\n",
        "\n",
        "url=\"https://identitytoolkit.googleapis.com/v1/accounts:sendOobCode?key={}\".format(api_key)\n",
        "\n",
        "\n",
        "headers={'Content-Type': 'application/json'}\n",
        "\n",
        "email=\"csalazarsa01@uninpahu.edu.co\"\n",
        "password=\"123456\"\n",
        "\n",
        "body = {\"requestType\":\"PASSWORD_RESET\",\"email\":\"{}\".format(email)}\n",
        "\n",
        "x = requests.post(url,headers=headers, json = body)\n",
        "\n",
        "print(x.json())\n",
        "print(x.status_code)\n",
        "if 'error' in x.json().keys():\n",
        "  print(x.json()['error']['message'])\n"
      ],
      "metadata": {
        "colab": {
          "base_uri": "https://localhost:8080/"
        },
        "id": "vRBoMo2X83Q0",
        "outputId": "abbb9795-a358-487b-c425-7ecab9c8caea"
      },
      "execution_count": 13,
      "outputs": [
        {
          "output_type": "stream",
          "name": "stdout",
          "text": [
            "{'kind': 'identitytoolkit#GetOobConfirmationCodeResponse', 'email': 'csalazarsa01@uninpahu.edu.co'}\n",
            "200\n"
          ]
        }
      ]
    },
    {
      "cell_type": "code",
      "source": [
        "var=1\n",
        "var2=\"hola\"\n",
        "var3=[1,2]\n",
        "\n",
        "print(\"la primera variable es {} y la segunda es {} y la tercera es {}\".format(var,var2,var3))\n",
        "\n"
      ],
      "metadata": {
        "colab": {
          "base_uri": "https://localhost:8080/"
        },
        "id": "f97LS2QQ1Lj6",
        "outputId": "1e54a20e-8fb1-40d8-cf7c-8ee1f7fb1ea2"
      },
      "execution_count": 2,
      "outputs": [
        {
          "output_type": "stream",
          "name": "stdout",
          "text": [
            "la primera variable es 1 y la segunda es hola y la tercera es [1, 2]\n"
          ]
        }
      ]
    }
  ]
}